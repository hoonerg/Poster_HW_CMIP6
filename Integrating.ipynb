{
 "cells": [
  {
   "cell_type": "code",
   "execution_count": 1,
   "metadata": {},
   "outputs": [],
   "source": [
    "import netCDF4\n",
    "import numpy\n",
    "import xarray"
   ]
  },
  {
   "cell_type": "code",
   "execution_count": 5,
   "metadata": {},
   "outputs": [],
   "source": [
    "ds = xarray.open_mfdataset('tas_Amon_NorESM2-MM_1pctCO2_r1i1p1f1_gn_*.nc',combine = 'by_coords', concat_dim=\"time\")"
   ]
  },
  {
   "cell_type": "code",
   "execution_count": 6,
   "metadata": {
    "collapsed": true
   },
   "outputs": [
    {
     "name": "stdout",
     "output_type": "stream",
     "text": [
      "<xarray.Dataset>\n",
      "Dimensions:    (bnds: 2, lat: 192, lon: 288, time: 1200)\n",
      "Coordinates:\n",
      "  * time       (time) object 0001-01-16 12:00:00 ... 0100-12-16 12:00:00\n",
      "  * lat        (lat) float64 -90.0 -89.06 -88.12 -87.17 ... 88.12 89.06 90.0\n",
      "  * lon        (lon) float64 0.0 1.25 2.5 3.75 5.0 ... 355.0 356.2 357.5 358.8\n",
      "    height     float64 2.0\n",
      "Dimensions without coordinates: bnds\n",
      "Data variables:\n",
      "    time_bnds  (time, bnds) object dask.array<chunksize=(120, 2), meta=np.ndarray>\n",
      "    lat_bnds   (time, lat, bnds) float64 dask.array<chunksize=(120, 192, 2), meta=np.ndarray>\n",
      "    lon_bnds   (time, lon, bnds) float64 dask.array<chunksize=(120, 288, 2), meta=np.ndarray>\n",
      "    tas        (time, lat, lon) float32 dask.array<chunksize=(120, 192, 288), meta=np.ndarray>\n",
      "Attributes:\n",
      "    Conventions:               CF-1.7 CMIP-6.2\n",
      "    activity_id:               CMIP\n",
      "    branch_method:             Hybrid-restart from year 1200-01-01 of piControl\n",
      "    branch_time:               0.0\n",
      "    branch_time_in_child:      0.0\n",
      "    branch_time_in_parent:     438000.0\n",
      "    contact:                   Please send any requests or bug reports to nor...\n",
      "    creation_date:             2019-12-04T07:29:34Z\n",
      "    data_specs_version:        01.00.31\n",
      "    experiment:                1 percent per year increase in CO2\n",
      "    experiment_id:             1pctCO2\n",
      "    external_variables:        areacella\n",
      "    forcing_index:             1\n",
      "    frequency:                 mon\n",
      "    further_info_url:          https://furtherinfo.es-doc.org/CMIP6.NCC.NorES...\n",
      "    grid:                      finite-volume grid with 0.9x1.25 degree lat/lo...\n",
      "    grid_label:                gn\n",
      "    history:                   2019-12-04T07:29:34Z ; CMOR rewrote data to be...\n",
      "    initialization_index:      1\n",
      "    institution:               NorESM Climate modeling Consortium consisting ...\n",
      "    institution_id:            NCC\n",
      "    mip_era:                   CMIP6\n",
      "    model_id:                  NorESM2-MM\n",
      "    nominal_resolution:        100 km\n",
      "    parent_activity_id:        CMIP\n",
      "    parent_experiment_id:      piControl\n",
      "    parent_mip_era:            CMIP6\n",
      "    parent_source_id:          NorESM2-MM\n",
      "    parent_sub_experiment_id:  none\n",
      "    parent_time_units:         days since 0001-01-01\n",
      "    parent_variant_label:      r1i1p1f1\n",
      "    physics_index:             1\n",
      "    product:                   model-output\n",
      "    realization_index:         1\n",
      "    realm:                     atmos\n",
      "    run_variant:               N/A\n",
      "    source:                    NorESM2-MM (2017): \\naerosol: OsloAero\\natmos:...\n",
      "    source_id:                 NorESM2-MM\n",
      "    source_type:               AOGCM AER BGC\n",
      "    sub_experiment:            none\n",
      "    sub_experiment_id:         none\n",
      "    table_id:                  Amon\n",
      "    table_info:                Creation Date:(24 July 2019) MD5:0bb394a356ef9...\n",
      "    title:                     NorESM2-MM output prepared for CMIP6\n",
      "    variable_id:               tas\n",
      "    variant_label:             r1i1p1f1\n",
      "    license:                   CMIP6 model data produced by NCC is licensed u...\n",
      "    cmor_version:              3.5.0\n",
      "    tracking_id:               hdl:21.14100/d2f0387c-ba58-443d-ba68-c074f39a8619\n"
     ]
    }
   ],
   "source": [
    "print(ds)"
   ]
  },
  {
   "cell_type": "code",
   "execution_count": 7,
   "metadata": {},
   "outputs": [
    {
     "name": "stderr",
     "output_type": "stream",
     "text": [
      "C:\\Users\\hoonc\\Anaconda3\\lib\\site-packages\\xarray\\conventions.py:429: UserWarning: Variable 'time' has datetime type and a bounds variable but time.encoding does not have units specified. The units encodings for 'time' and 'time_bnds' will be determined independently and may not be equal, counter to CF-conventions. If this is a concern, specify a units encoding for 'time' before writing to a file.\n",
      "  UserWarning,\n"
     ]
    }
   ],
   "source": [
    "ds.to_netcdf('NorESM2-MM_21.nc')"
   ]
  }
 ],
 "metadata": {
  "kernelspec": {
   "display_name": "Python 3",
   "language": "python",
   "name": "python3"
  },
  "language_info": {
   "codemirror_mode": {
    "name": "ipython",
    "version": 3
   },
   "file_extension": ".py",
   "mimetype": "text/x-python",
   "name": "python",
   "nbconvert_exporter": "python",
   "pygments_lexer": "ipython3",
   "version": "3.6.12"
  }
 },
 "nbformat": 4,
 "nbformat_minor": 4
}
